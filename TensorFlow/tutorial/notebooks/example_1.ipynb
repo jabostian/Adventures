{
 "cells": [
  {
   "cell_type": "code",
   "execution_count": 4,
   "metadata": {},
   "outputs": [
    {
     "name": "stdout",
     "output_type": "stream",
     "text": [
      "Epoch 1/5\n",
      "60000/60000 [==============================] - 15s 244us/step - loss: 0.2200 - acc: 0.9346\n",
      "Epoch 2/5\n",
      "60000/60000 [==============================] - 15s 242us/step - loss: 0.0974 - acc: 0.9701\n",
      "Epoch 3/5\n",
      "60000/60000 [==============================] - 14s 228us/step - loss: 0.0683 - acc: 0.9784\n",
      "Epoch 4/5\n",
      "60000/60000 [==============================] - 15s 248us/step - loss: 0.0528 - acc: 0.9831\n",
      "Epoch 5/5\n",
      "60000/60000 [==============================] - 13s 219us/step - loss: 0.0436 - acc: 0.9856\n",
      "10000/10000 [==============================] - 0s 41us/step\n",
      "CPU times: user 1min 12s, sys: 20.7 s, total: 1min 32s\n",
      "Wall time: 1min 12s\n"
     ]
    }
   ],
   "source": [
    "%%time\n",
    "\n",
    "import tensorflow as tf\n",
    "mnist = tf.keras.datasets.mnist\n",
    "\n",
    "(x_train, y_train),(x_test, y_test) = mnist.load_data()\n",
    "x_train, x_test = x_train / 255.0, x_test / 255.0\n",
    "\n",
    "model = tf.keras.models.Sequential([\n",
    "  tf.keras.layers.Flatten(),\n",
    "  tf.keras.layers.Dense(512, activation=tf.nn.relu),\n",
    "  tf.keras.layers.Dropout(0.2),\n",
    "  tf.keras.layers.Dense(10, activation=tf.nn.softmax)\n",
    "])\n",
    "model.compile(optimizer='adam',\n",
    "              loss='sparse_categorical_crossentropy',\n",
    "              metrics=['accuracy'])\n",
    "\n",
    "model.fit(x_train, y_train, epochs=5)\n",
    "model.evaluate(x_test, y_test)"
   ]
  },
  {
   "cell_type": "code",
   "execution_count": null,
   "metadata": {},
   "outputs": [],
   "source": []
  }
 ],
 "metadata": {
  "kernelspec": {
   "display_name": "Python 3",
   "language": "python",
   "name": "python3"
  },
  "language_info": {
   "codemirror_mode": {
    "name": "ipython",
    "version": 3
   },
   "file_extension": ".py",
   "mimetype": "text/x-python",
   "name": "python",
   "nbconvert_exporter": "python",
   "pygments_lexer": "ipython3",
   "version": "3.6.6"
  }
 },
 "nbformat": 4,
 "nbformat_minor": 2
}
